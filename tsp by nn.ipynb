{
 "cells": [
  {
   "cell_type": "code",
   "execution_count": 9,
   "metadata": {},
   "outputs": [],
   "source": [
    "import pandas as pd\n",
    "import numpy as np\n",
    "import math"
   ]
  },
  {
   "cell_type": "code",
   "execution_count": 2,
   "metadata": {},
   "outputs": [
    {
     "data": {
      "text/html": [
       "<div>\n",
       "<style scoped>\n",
       "    .dataframe tbody tr th:only-of-type {\n",
       "        vertical-align: middle;\n",
       "    }\n",
       "\n",
       "    .dataframe tbody tr th {\n",
       "        vertical-align: top;\n",
       "    }\n",
       "\n",
       "    .dataframe thead th {\n",
       "        text-align: right;\n",
       "    }\n",
       "</style>\n",
       "<table border=\"1\" class=\"dataframe\">\n",
       "  <thead>\n",
       "    <tr style=\"text-align: right;\">\n",
       "      <th></th>\n",
       "      <th>City</th>\n",
       "      <th>x</th>\n",
       "      <th>y</th>\n",
       "    </tr>\n",
       "  </thead>\n",
       "  <tbody>\n",
       "    <tr>\n",
       "      <th>0</th>\n",
       "      <td>1</td>\n",
       "      <td>5.500000e-08</td>\n",
       "      <td>9.860000e-09</td>\n",
       "    </tr>\n",
       "    <tr>\n",
       "      <th>1</th>\n",
       "      <td>2</td>\n",
       "      <td>-2.887330e+01</td>\n",
       "      <td>-7.980000e-08</td>\n",
       "    </tr>\n",
       "    <tr>\n",
       "      <th>2</th>\n",
       "      <td>3</td>\n",
       "      <td>-7.929160e+01</td>\n",
       "      <td>-2.140330e+01</td>\n",
       "    </tr>\n",
       "    <tr>\n",
       "      <th>3</th>\n",
       "      <td>4</td>\n",
       "      <td>-1.465770e+01</td>\n",
       "      <td>-4.338960e+01</td>\n",
       "    </tr>\n",
       "    <tr>\n",
       "      <th>4</th>\n",
       "      <td>5</td>\n",
       "      <td>-6.474730e+01</td>\n",
       "      <td>2.189820e+01</td>\n",
       "    </tr>\n",
       "  </tbody>\n",
       "</table>\n",
       "</div>"
      ],
      "text/plain": [
       "   City             x             y\n",
       "0     1  5.500000e-08  9.860000e-09\n",
       "1     2 -2.887330e+01 -7.980000e-08\n",
       "2     3 -7.929160e+01 -2.140330e+01\n",
       "3     4 -1.465770e+01 -4.338960e+01\n",
       "4     5 -6.474730e+01  2.189820e+01"
      ]
     },
     "execution_count": 2,
     "metadata": {},
     "output_type": "execute_result"
    }
   ],
   "source": [
    "data = pd.read_csv('Data set CSV.csv')\n",
    "data.head()"
   ]
  },
  {
   "cell_type": "code",
   "execution_count": 29,
   "metadata": {},
   "outputs": [],
   "source": [
    "class City:\n",
    "    def __init__(self, name, longitude, latitude):\n",
    "        self.name = name\n",
    "        self.longitude = longitude\n",
    "        self.latitude = latitude\n",
    "\n",
    "    def __str__(self):\n",
    "        return f\"{self.name,self.longitude,self.latitude}\""
   ]
  },
  {
   "cell_type": "code",
   "execution_count": 30,
   "metadata": {},
   "outputs": [],
   "source": [
    "cities = [City(row['City'], row['x'], row['y']) for index, row in data.iterrows()]"
   ]
  },
  {
   "cell_type": "code",
   "execution_count": 58,
   "metadata": {},
   "outputs": [
    {
     "data": {
      "text/plain": [
       "15.0"
      ]
     },
     "execution_count": 58,
     "metadata": {},
     "output_type": "execute_result"
    }
   ],
   "source": [
    "cities[14].name"
   ]
  },
  {
   "cell_type": "code",
   "execution_count": 59,
   "metadata": {},
   "outputs": [],
   "source": [
    "def choose_start_point(cities): #, start_city\n",
    "    for city in cities:\n",
    "        if city.name == 15.0:\n",
    "            return city\n"
   ]
  },
  {
   "cell_type": "code",
   "execution_count": 33,
   "metadata": {},
   "outputs": [],
   "source": [
    "def calculate_distance(city1, city2):\n",
    "    \n",
    "    return math.sqrt((city1.longitude - city2.longitude)**2 + (city1.latitude - city2.latitude)**2)\n"
   ]
  },
  {
   "cell_type": "code",
   "execution_count": 34,
   "metadata": {},
   "outputs": [],
   "source": [
    "def check_stop_condition(visited, cities):\n",
    "    \n",
    "    return len(visited) == len(cities)"
   ]
  },
  {
   "cell_type": "code",
   "execution_count": 42,
   "metadata": {},
   "outputs": [],
   "source": [
    "#function to run the TSP\n",
    "def knn_tsp(cities): #, desired_start\n",
    "    \n",
    "    start_city = choose_start_point(cities) #, desired_start\n",
    "    current_city = start_city\n",
    "    visited = [current_city]\n",
    "    while not check_stop_condition(visited, cities):\n",
    "        distances = [(calculate_distance(current_city, city), city) for city in cities if city not in visited]\n",
    "        distances.sort() #make sure youre sorting based on dist\n",
    "        nearest_city = distances[0][1] \n",
    "        visited.append(nearest_city)\n",
    "        current_city = nearest_city\n",
    "    visited.append(start_city)  # Return to the start point\n",
    "    return visited"
   ]
  },
  {
   "cell_type": "code",
   "execution_count": 36,
   "metadata": {},
   "outputs": [],
   "source": [
    "def calculate_total_distance(route):\n",
    "    total_distance = 0\n",
    "    for i in range(len(route) - 1):\n",
    "        total_distance += calculate_distance(route[i], route[i+1])\n",
    "    return total_distance"
   ]
  },
  {
   "cell_type": "code",
   "execution_count": 61,
   "metadata": {},
   "outputs": [
    {
     "name": "stdout",
     "output_type": "stream",
     "text": [
      "Sequence of cities visited:\n",
      "15.0\n",
      "9.0\n",
      "5.0\n",
      "7.0\n",
      "3.0\n",
      "12.0\n",
      "14.0\n",
      "10.0\n",
      "8.0\n",
      "6.0\n",
      "4.0\n",
      "11.0\n",
      "1.0\n",
      "13.0\n",
      "2.0\n",
      "15.0\n",
      "Total distance traveled: 284.3810904080332\n"
     ]
    }
   ],
   "source": [
    "route = knn_tsp(cities) #i have sequence of cities \n",
    "\n",
    "total_distance = calculate_total_distance(route)\n",
    "\n",
    "print(\"Sequence of cities visited:\")\n",
    "for city in route:\n",
    "    print(city.name)\n",
    "\n",
    "print(\"Total distance traveled:\", total_distance)"
   ]
  },
  {
   "cell_type": "code",
   "execution_count": null,
   "metadata": {},
   "outputs": [],
   "source": []
  }
 ],
 "metadata": {
  "kernelspec": {
   "display_name": "Python 3",
   "language": "python",
   "name": "python3"
  },
  "language_info": {
   "codemirror_mode": {
    "name": "ipython",
    "version": 3
   },
   "file_extension": ".py",
   "mimetype": "text/x-python",
   "name": "python",
   "nbconvert_exporter": "python",
   "pygments_lexer": "ipython3",
   "version": "3.10.5"
  }
 },
 "nbformat": 4,
 "nbformat_minor": 2
}
