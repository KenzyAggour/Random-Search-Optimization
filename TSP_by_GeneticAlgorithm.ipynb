{
 "cells": [
  {
   "cell_type": "code",
   "execution_count": 1,
   "metadata": {},
   "outputs": [],
   "source": [
    "import pandas as pd\n",
    "import numpy as np\n",
    "import math\n",
    "import random"
   ]
  },
  {
   "cell_type": "markdown",
   "metadata": {},
   "source": [
    "- read data"
   ]
  },
  {
   "cell_type": "code",
   "execution_count": 2,
   "metadata": {},
   "outputs": [
    {
     "data": {
      "text/html": [
       "<div>\n",
       "<style scoped>\n",
       "    .dataframe tbody tr th:only-of-type {\n",
       "        vertical-align: middle;\n",
       "    }\n",
       "\n",
       "    .dataframe tbody tr th {\n",
       "        vertical-align: top;\n",
       "    }\n",
       "\n",
       "    .dataframe thead th {\n",
       "        text-align: right;\n",
       "    }\n",
       "</style>\n",
       "<table border=\"1\" class=\"dataframe\">\n",
       "  <thead>\n",
       "    <tr style=\"text-align: right;\">\n",
       "      <th></th>\n",
       "      <th>City</th>\n",
       "      <th>x</th>\n",
       "      <th>y</th>\n",
       "    </tr>\n",
       "  </thead>\n",
       "  <tbody>\n",
       "    <tr>\n",
       "      <th>0</th>\n",
       "      <td>1</td>\n",
       "      <td>5.500000e-08</td>\n",
       "      <td>9.860000e-09</td>\n",
       "    </tr>\n",
       "    <tr>\n",
       "      <th>1</th>\n",
       "      <td>2</td>\n",
       "      <td>-2.887330e+01</td>\n",
       "      <td>-7.980000e-08</td>\n",
       "    </tr>\n",
       "    <tr>\n",
       "      <th>2</th>\n",
       "      <td>3</td>\n",
       "      <td>-7.929160e+01</td>\n",
       "      <td>-2.140330e+01</td>\n",
       "    </tr>\n",
       "    <tr>\n",
       "      <th>3</th>\n",
       "      <td>4</td>\n",
       "      <td>-1.465770e+01</td>\n",
       "      <td>-4.338960e+01</td>\n",
       "    </tr>\n",
       "    <tr>\n",
       "      <th>4</th>\n",
       "      <td>5</td>\n",
       "      <td>-6.474730e+01</td>\n",
       "      <td>2.189820e+01</td>\n",
       "    </tr>\n",
       "  </tbody>\n",
       "</table>\n",
       "</div>"
      ],
      "text/plain": [
       "   City             x             y\n",
       "0     1  5.500000e-08  9.860000e-09\n",
       "1     2 -2.887330e+01 -7.980000e-08\n",
       "2     3 -7.929160e+01 -2.140330e+01\n",
       "3     4 -1.465770e+01 -4.338960e+01\n",
       "4     5 -6.474730e+01  2.189820e+01"
      ]
     },
     "execution_count": 2,
     "metadata": {},
     "output_type": "execute_result"
    }
   ],
   "source": [
    "data = pd.read_csv('Data set CSV.csv')\n",
    "data.head()"
   ]
  },
  {
   "cell_type": "markdown",
   "metadata": {},
   "source": [
    "- classes definitions"
   ]
  },
  {
   "cell_type": "code",
   "execution_count": 3,
   "metadata": {},
   "outputs": [],
   "source": [
    "class City:\n",
    "    def __init__(self, name, longitude, latitude):\n",
    "        self.name = name\n",
    "        self.longitude = longitude\n",
    "        self.latitude = latitude\n",
    "\n",
    "    def __str__(self):\n",
    "        return f\"{self.name,self.longitude,self.latitude}\""
   ]
  },
  {
   "cell_type": "code",
   "execution_count": 4,
   "metadata": {},
   "outputs": [],
   "source": [
    "class Chromosome:\n",
    "    def __init__(self, cities_withxy, cost, fitness):\n",
    "        self.cities_withxy = cities_withxy          #each gene holds name,x,y []\n",
    "        self.cost = cost\n",
    "        self.fitness = fitness\n",
    "    def __str__(self):\n",
    "        return f\"{self.cities_withxy, self.cost, self.fitness}\"\n",
    "    \n",
    "    def __str__(self):\n",
    "        return f\"{self.cities_withxy, self.cost, self.fitness}\""
   ]
  },
  {
   "cell_type": "markdown",
   "metadata": {},
   "source": [
    "- distance matrix"
   ]
  },
  {
   "cell_type": "code",
   "execution_count": 5,
   "metadata": {},
   "outputs": [],
   "source": [
    "def calculate_distance(city1, city2):\n",
    "    return math.sqrt((city1.longitude - city2.longitude)**2 + (city1.latitude - city2.latitude)**2)\n",
    "\n",
    "def calculate_distance_matrix(cities):\n",
    "    num_cities = len(cities)\n",
    "    city_names = [city.name for city in cities]\n",
    "    distance_matrix = {name: {other_name: 0 for other_name in city_names} for name in city_names}\n",
    "\n",
    "    for i in range(num_cities):\n",
    "        for j in range(i + 1, num_cities):\n",
    "            distance = calculate_distance(cities[i], cities[j])\n",
    "            distance_matrix[cities[i].name][cities[j].name] = distance\n",
    "            distance_matrix[cities[j].name][cities[i].name] = distance  \n",
    "\n",
    "    return distance_matrix "
   ]
  },
  {
   "cell_type": "code",
   "execution_count": 7,
   "metadata": {},
   "outputs": [],
   "source": [
    "def calculate_total_distance(chromosome):       #takes list of city objects\n",
    "    total_distance = 0\n",
    "    num_cities = len(chromosome)\n",
    "\n",
    "    for i in range(num_cities - 1):\n",
    "        city1 = chromosome[i].name\n",
    "        city2 = chromosome[i + 1].name\n",
    "        total_distance += distance_matrix[city1][city2]\n",
    "\n",
    "    #add distance from the last city back to the starting city\n",
    "    total_distance += distance_matrix[chromosome[-1].name][chromosome[0].name]\n",
    "\n",
    "    return total_distance"
   ]
  },
  {
   "cell_type": "markdown",
   "metadata": {},
   "source": [
    "- initial population"
   ]
  },
  {
   "cell_type": "code",
   "execution_count": 8,
   "metadata": {},
   "outputs": [],
   "source": [
    "'''\n",
    "Fitness Evaluation\n",
    "    Fitness will be cost based\n",
    "    Equation:\n",
    "        Fitness = 1/ (Total cost of Tsp Trip)\n",
    "        Function steps:\n",
    "        a.Calculate Chromosome Cost ()\n",
    "        b.Set Cost to Chromosome\n",
    "        c. Calculate Chromosome Fitness(Cost)\n",
    "        d.Set Fitness To Chromosome \n",
    "'''\n",
    "def fitness_evaluation(chromosome_city_sequence):           #will take list of city objects\n",
    "    chromosome_cost = calculate_total_distance(chromosome_city_sequence)    \n",
    "    chromosome_fitness = 1 / chromosome_cost\n",
    "    return chromosome_cost, chromosome_fitness"
   ]
  },
  {
   "cell_type": "code",
   "execution_count": 9,
   "metadata": {},
   "outputs": [],
   "source": [
    "'''\n",
    "Initial Population\n",
    "Function steps:\n",
    "For(Initial population count)\n",
    "{\n",
    " Generate Chromosome From Permutation()\n",
    " Evaluate Chromosome Fitness()\n",
    " Add Chromosome To Population()\n",
    "}\n",
    "'''\n",
    "def initial_population(population_size, cities):\n",
    "\n",
    "    initial_population = []\n",
    "\n",
    "    for _ in range(population_size):\n",
    "        chromosome_sequence_with_xy = random.sample(cities, len(cities))        #list of city/gene object name,x,y  \n",
    "        #print(chromosome_sequence_with_xy[0])\n",
    "        chromosome_cost, chromosome_fitness = fitness_evaluation(chromosome_sequence_with_xy)\n",
    "\n",
    "        chromosome = Chromosome(chromosome_sequence_with_xy, chromosome_cost, chromosome_fitness)\n",
    "        initial_population.append(chromosome)\n",
    "        \n",
    "    return initial_population"
   ]
  },
  {
   "cell_type": "markdown",
   "metadata": {},
   "source": [
    "- elitism"
   ]
  },
  {
   "cell_type": "code",
   "execution_count": 10,
   "metadata": {},
   "outputs": [],
   "source": [
    "def sort_chromosomes(population):\n",
    "    return sorted(population, key=lambda x: x.fitness, reverse=True)"
   ]
  },
  {
   "cell_type": "code",
   "execution_count": 126,
   "metadata": {},
   "outputs": [],
   "source": [
    "'''\n",
    "Elitism\n",
    "    Function steps:\n",
    "        a.Calculate Elitism Count ()\n",
    "        b.Select Top Fittest Chromosomes\n",
    "        c. Add Elite Chromosome To New Generation List\n",
    "'''\n",
    "\n",
    "def select_elites(population, elitism_percentage, k):\n",
    "    sorted_chromosomes = sort_chromosomes(population)\n",
    "    elites = sorted_chromosomes[:k]\n",
    "    return elites                                                                                            "
   ]
  },
  {
   "cell_type": "markdown",
   "metadata": {},
   "source": [
    "- selection"
   ]
  },
  {
   "cell_type": "code",
   "execution_count": 12,
   "metadata": {},
   "outputs": [],
   "source": [
    "'''\n",
    "-Selection Hint Use K-Tournament Selection\n",
    "Function steps:\n",
    "a.Select Random K Chromosomes ()\n",
    "b.Choose the fittest()\n",
    "'''\n",
    "def selection(population, k_tournament):\n",
    "    random_chromosomes = random.sample(population, k_tournament)\n",
    "    sorted_random = sort_chromosomes(random_chromosomes)\n",
    "    parent = sorted_random[0]\n",
    "    return parent"
   ]
  },
  {
   "cell_type": "markdown",
   "metadata": {},
   "source": [
    "- crossover"
   ]
  },
  {
   "cell_type": "code",
   "execution_count": 37,
   "metadata": {},
   "outputs": [],
   "source": [
    "def partially_mapped_crossover(parent1, parent2):       #Chromo objs\n",
    "    #choose two random crossover points\n",
    "    crossover_point1, crossover_point2 = sorted(random.sample(range(len(parent1.cities_withxy)), 2))\n",
    "\n",
    "    #initialize child chromosomes as copies of the parents\n",
    "    child1 = parent1.cities_withxy[:]\n",
    "    child2 = parent2.cities_withxy[:]\n",
    "\n",
    "    #perform crossover within the selected points\n",
    "    for i in range(crossover_point1, crossover_point2 + 1):\n",
    "        #swap values between parents in the crossover section\n",
    "        temp1 = child1[i]\n",
    "        temp2 = child2[i]\n",
    "        child1[i] = temp2\n",
    "        child2[i] = temp1\n",
    "\n",
    "    return child1, child2"
   ]
  },
  {
   "cell_type": "code",
   "execution_count": 43,
   "metadata": {},
   "outputs": [],
   "source": [
    "def fix_duplicate_cities(chromosome_sequence, all_cities):\n",
    "    visited_cities = set()\n",
    "    new_sequence = []\n",
    "    for city in chromosome_sequence:\n",
    "        if city.name not in visited_cities:\n",
    "            new_sequence.append(city)\n",
    "            visited_cities.add(city.name)\n",
    "        else:\n",
    "            unvisited_cities = [c for c in all_cities if c.name not in visited_cities]\n",
    "            unvisited_city = random.choice(unvisited_cities)\n",
    "            new_sequence.append(unvisited_city)\n",
    "            visited_cities.add(unvisited_city.name)\n",
    "    return new_sequence"
   ]
  },
  {
   "cell_type": "code",
   "execution_count": 140,
   "metadata": {},
   "outputs": [],
   "source": [
    "'''\n",
    "Function Steps:\n",
    "    a.Crossover Count =\n",
    "    (population Size - No. of elite\n",
    "    chromosomes) / 2\n",
    "    b.for(Crossover Count)\n",
    "        { parent1= Tournament selection()\n",
    "        parent2= Tournament selection()\n",
    "        generate random double number that ranges from 0-1\n",
    "        if( generated random number < crossover\n",
    "        probability){\n",
    "            Apply Partial mapped crossover on\n",
    "            parent1 and parent2\n",
    "            Evaluate child1 and child2 Fitness\n",
    "            insert child1 and child2 into new\n",
    "            generation list\n",
    "        }\n",
    "        else {\n",
    "            insert parent1 and parent2 into new\n",
    "            generation list}\n",
    "        }\n",
    "'''\n",
    "\n",
    "def crossover(population, k_tournament, population_size, elites, crossover_probability):\n",
    "    crossover_count = (population_size - len(elites)) // 2\n",
    "    new_generation = []\n",
    "    for _ in range(crossover_count):\n",
    "        parent1 = selection(population, k_tournament)  # select from old generation list\n",
    "        parent2 = selection(population, k_tournament)\n",
    "        random_number = random.random()\n",
    "        if random_number < crossover_probability:\n",
    "            child1, child2 = partially_mapped_crossover(parent1, parent2)  # returned city objects\n",
    "\n",
    "            #ensure no duplicate cities in children\n",
    "            child1 = fix_duplicate_cities(child1, cities)\n",
    "            child2 = fix_duplicate_cities(child2, cities)\n",
    "\n",
    "            child1_cost, child1_fitness = fitness_evaluation(child1)\n",
    "            child2_cost, child2_fitness = fitness_evaluation(child2)\n",
    "\n",
    "            child1 = Chromosome(child1, child1_cost, child1_fitness)\n",
    "            child2 = Chromosome(child2, child2_cost, child2_fitness)\n",
    "\n",
    "            return child1, child2 \n",
    "        else:\n",
    "            return parent1, parent2"
   ]
  },
  {
   "cell_type": "markdown",
   "metadata": {},
   "source": [
    "- mutation"
   ]
  },
  {
   "cell_type": "code",
   "execution_count": 16,
   "metadata": {},
   "outputs": [],
   "source": [
    "def swap_mutation(chromosome):              #Takes chromosome class, now mutate the sequence\n",
    "    mutated_chromosome_sequence = chromosome.cities_withxy[:]  #sake a copy of the chromosome sequence\n",
    "    \n",
    "    #select two random positions\n",
    "    pos1, pos2 = random.sample(range(len(mutated_chromosome_sequence)), 2)\n",
    "\n",
    "    #swap values at the selected positions\n",
    "    mutated_chromosome_sequence[pos1], mutated_chromosome_sequence[pos2] = mutated_chromosome_sequence[pos2], mutated_chromosome_sequence[pos1]\n",
    "\n",
    "    return mutated_chromosome_sequence                  #returns list of city objects"
   ]
  },
  {
   "cell_type": "code",
   "execution_count": 141,
   "metadata": {},
   "outputs": [],
   "source": [
    "'''\n",
    "Function Steps:\n",
    "    a.for(population size)\n",
    "    {\n",
    "        parent1= select random parent from new                                                          \n",
    "        generation list\n",
    "\n",
    "        generate random double number that\n",
    "        ranges from 0 - 1\n",
    "        if( generated random number < mutation\n",
    "        probability){\n",
    "            Apply swapping mutation on parent1\n",
    "            Evaluate mutated parent Fitness\n",
    "            replace parent1 by mutated parent into new generation list\n",
    "        }\n",
    "    }\n",
    "'''\n",
    "def mutation(population, population_size, mutation_probability, elitism_percentage):\n",
    "    k = int((population_size) * elitism_percentage)\n",
    "    for i in range(k, population_size):\n",
    "        parent = random.choice(population)\n",
    "        parent_index = population.index(parent)\n",
    "        random_number = random.random()\n",
    "        if random_number < mutation_probability:\n",
    "            mutated_parent_sequence = swap_mutation(parent)  # returns list of city objects\n",
    "            \n",
    "            #ensure no city is visited more than once\n",
    "            mutated_chromosome_sequence = fix_duplicate_cities(mutated_parent_sequence, cities)\n",
    "            mutated_chromosome_cost, mutated_chromosome_fitness = fitness_evaluation(mutated_chromosome_sequence)\n",
    "            mutated_chromosome = Chromosome(mutated_chromosome_sequence, mutated_chromosome_cost, mutated_chromosome_fitness)\n",
    "            population[parent_index] = mutated_chromosome\n",
    "\n",
    "    return population"
   ]
  },
  {
   "cell_type": "markdown",
   "metadata": {},
   "source": [
    "- running the algorithm"
   ]
  },
  {
   "cell_type": "code",
   "execution_count": 18,
   "metadata": {},
   "outputs": [],
   "source": [
    "cities = [City(row['City'], row['x'], row['y']) for index, row in data.iterrows()] "
   ]
  },
  {
   "cell_type": "code",
   "execution_count": 19,
   "metadata": {},
   "outputs": [],
   "source": [
    "distance_matrix = calculate_distance_matrix(cities)"
   ]
  },
  {
   "cell_type": "code",
   "execution_count": 20,
   "metadata": {},
   "outputs": [],
   "source": [
    "population_size= 50\n",
    "generations_count=100                                   \n",
    "elitism_percentage = 0.02        #2% of population \n",
    "k = int((population_size) * elitism_percentage) #(1 chromosome)                   \n",
    "crossover_probability = 0.6\n",
    "mutation_probability = 0.1\n",
    "k_tournament = 5                                                                                      "
   ]
  },
  {
   "cell_type": "code",
   "execution_count": 117,
   "metadata": {},
   "outputs": [],
   "source": [
    "def main_loop(population_size, generations_count, elitism_percentage, crossover_probability, mutation_probability, k_tournament,k):\n",
    "    \n",
    "    population = initial_population(population_size, cities)\n",
    "    for generation in range(generations_count):\n",
    "        elites = select_elites(population, elitism_percentage, k)\n",
    "        new_generation = []\n",
    "        new_generation.extend(elites)\n",
    "\n",
    "        #perform crossover to fill the rest of the population\n",
    "        while len(new_generation) < population_size-k:        \n",
    "            child1, child2 = crossover(population, k_tournament, population_size, elites, crossover_probability)\n",
    "            new_generation.extend([child1, child2])\n",
    "\n",
    "        #print(len(set(new_generation[0].cities_withxy)))        #test \n",
    "        #print(\"cv\",len(set(new_generation)))                     #test \n",
    "\n",
    "        new_generation = mutation(new_generation, population_size, mutation_probability,elitism_percentage)\n",
    "        #print(\"mut\",len(set(new_generation)))      #test\n",
    "\n",
    "        population = sort_chromosomes(new_generation)\n",
    "        print(f\"Generation {generation+1}: Best solution - Fitness: {population[0].fitness}, Cost: {population[0].cost}\")\n",
    "    \n",
    "    #print(len(population))\n",
    "    return population[0]"
   ]
  },
  {
   "cell_type": "code",
   "execution_count": 113,
   "metadata": {},
   "outputs": [
    {
     "name": "stdout",
     "output_type": "stream",
     "text": [
      "Generation 1: Best solution - Fitness: 0.002018058430996035, Cost: 495.5257908495935\n",
      "Generation 2: Best solution - Fitness: 0.002020591659581517, Cost: 494.90454702119735\n",
      "Generation 3: Best solution - Fitness: 0.002020591659581517, Cost: 494.90454702119735\n",
      "Generation 4: Best solution - Fitness: 0.0020350249963808483, Cost: 491.3944554874908\n",
      "Generation 5: Best solution - Fitness: 0.0020350249963808483, Cost: 491.3944554874908\n",
      "Generation 6: Best solution - Fitness: 0.0021245232131755407, Cost: 470.6938449993646\n",
      "Generation 7: Best solution - Fitness: 0.002267121390426245, Cost: 441.08798241808677\n",
      "Generation 8: Best solution - Fitness: 0.002267121390426245, Cost: 441.08798241808677\n",
      "Generation 9: Best solution - Fitness: 0.002496301827801369, Cost: 400.59258414306225\n",
      "Generation 10: Best solution - Fitness: 0.002496301827801369, Cost: 400.59258414306225\n",
      "Generation 11: Best solution - Fitness: 0.002496301827801369, Cost: 400.59258414306225\n",
      "Generation 12: Best solution - Fitness: 0.002496301827801369, Cost: 400.59258414306225\n",
      "Generation 13: Best solution - Fitness: 0.002496301827801369, Cost: 400.59258414306225\n",
      "Generation 14: Best solution - Fitness: 0.002496301827801369, Cost: 400.59258414306225\n",
      "Generation 15: Best solution - Fitness: 0.0025873271432571327, Cost: 386.49924985563314\n",
      "Generation 16: Best solution - Fitness: 0.0025873271432571327, Cost: 386.49924985563314\n",
      "Generation 17: Best solution - Fitness: 0.0025873271432571327, Cost: 386.49924985563314\n",
      "Generation 18: Best solution - Fitness: 0.0025873271432571327, Cost: 386.49924985563314\n",
      "Generation 19: Best solution - Fitness: 0.0025873271432571327, Cost: 386.49924985563314\n",
      "Generation 20: Best solution - Fitness: 0.0025873271432571327, Cost: 386.49924985563314\n",
      "Generation 21: Best solution - Fitness: 0.0025873271432571327, Cost: 386.49924985563314\n",
      "Generation 22: Best solution - Fitness: 0.0025873271432571327, Cost: 386.49924985563314\n",
      "Generation 23: Best solution - Fitness: 0.0025873271432571327, Cost: 386.49924985563314\n",
      "Generation 24: Best solution - Fitness: 0.0025873271432571327, Cost: 386.49924985563314\n",
      "Generation 25: Best solution - Fitness: 0.002632331326309748, Cost: 379.8913875336108\n",
      "Generation 26: Best solution - Fitness: 0.002632331326309748, Cost: 379.8913875336108\n",
      "Generation 27: Best solution - Fitness: 0.0026513069559801227, Cost: 377.17247252132097\n",
      "Generation 28: Best solution - Fitness: 0.0027837002859995123, Cost: 359.2340759633687\n",
      "Generation 29: Best solution - Fitness: 0.0027837002859995123, Cost: 359.2340759633687\n",
      "Generation 30: Best solution - Fitness: 0.0029803141241460432, Cost: 335.53510077953024\n",
      "Generation 31: Best solution - Fitness: 0.0031758353058536476, Cost: 314.87778920928815\n",
      "Generation 32: Best solution - Fitness: 0.0031758353058536476, Cost: 314.87778920928815\n",
      "Generation 33: Best solution - Fitness: 0.0031758353058536476, Cost: 314.87778920928815\n",
      "Generation 34: Best solution - Fitness: 0.0031758353058536476, Cost: 314.87778920928815\n",
      "Generation 35: Best solution - Fitness: 0.0031758353058536476, Cost: 314.87778920928815\n",
      "Generation 36: Best solution - Fitness: 0.0031758353058536476, Cost: 314.87778920928815\n",
      "Generation 37: Best solution - Fitness: 0.0031758353058536476, Cost: 314.87778920928815\n",
      "Generation 38: Best solution - Fitness: 0.0031758353058536476, Cost: 314.87778920928815\n",
      "Generation 39: Best solution - Fitness: 0.0031758353058536476, Cost: 314.87778920928815\n",
      "Generation 40: Best solution - Fitness: 0.0031758353058536476, Cost: 314.87778920928815\n",
      "Generation 41: Best solution - Fitness: 0.0031758353058536476, Cost: 314.87778920928815\n",
      "Generation 42: Best solution - Fitness: 0.0031758353058536476, Cost: 314.87778920928815\n",
      "Generation 43: Best solution - Fitness: 0.0031758353058536476, Cost: 314.87778920928815\n",
      "Generation 44: Best solution - Fitness: 0.0034187356663714376, Cost: 292.50579675888645\n",
      "Generation 45: Best solution - Fitness: 0.0034187356663714376, Cost: 292.50579675888645\n",
      "Generation 46: Best solution - Fitness: 0.0034187356663714376, Cost: 292.50579675888645\n",
      "Generation 47: Best solution - Fitness: 0.0034187356663714376, Cost: 292.50579675888645\n",
      "Generation 48: Best solution - Fitness: 0.0034187356663714376, Cost: 292.50579675888645\n",
      "Generation 49: Best solution - Fitness: 0.0034187356663714376, Cost: 292.50579675888645\n",
      "Generation 50: Best solution - Fitness: 0.0034187356663714376, Cost: 292.50579675888645\n",
      "Generation 51: Best solution - Fitness: 0.0034187356663714376, Cost: 292.50579675888645\n",
      "Generation 52: Best solution - Fitness: 0.0034187356663714376, Cost: 292.50579675888645\n",
      "Generation 53: Best solution - Fitness: 0.0034187356663714376, Cost: 292.50579675888645\n",
      "Generation 54: Best solution - Fitness: 0.0034187356663714376, Cost: 292.50579675888645\n",
      "Generation 55: Best solution - Fitness: 0.0034187356663714376, Cost: 292.50579675888645\n",
      "Generation 56: Best solution - Fitness: 0.0034187356663714376, Cost: 292.50579675888645\n",
      "Generation 57: Best solution - Fitness: 0.0034187356663714376, Cost: 292.50579675888645\n",
      "Generation 58: Best solution - Fitness: 0.0034187356663714376, Cost: 292.50579675888645\n",
      "Generation 59: Best solution - Fitness: 0.0034187356663714376, Cost: 292.50579675888645\n",
      "Generation 60: Best solution - Fitness: 0.0034187356663714376, Cost: 292.50579675888645\n",
      "Generation 61: Best solution - Fitness: 0.0034187356663714376, Cost: 292.50579675888645\n",
      "Generation 62: Best solution - Fitness: 0.0034187356663714376, Cost: 292.50579675888645\n",
      "Generation 63: Best solution - Fitness: 0.0034187356663714376, Cost: 292.50579675888645\n",
      "Generation 64: Best solution - Fitness: 0.0034187356663714376, Cost: 292.50579675888645\n",
      "Generation 65: Best solution - Fitness: 0.0034187356663714376, Cost: 292.50579675888645\n",
      "Generation 66: Best solution - Fitness: 0.0034187356663714376, Cost: 292.50579675888645\n",
      "Generation 67: Best solution - Fitness: 0.0034187356663714376, Cost: 292.50579675888645\n",
      "Generation 68: Best solution - Fitness: 0.0034187356663714376, Cost: 292.50579675888645\n",
      "Generation 69: Best solution - Fitness: 0.0034187356663714376, Cost: 292.50579675888645\n",
      "Generation 70: Best solution - Fitness: 0.0034187356663714376, Cost: 292.50579675888645\n",
      "Generation 71: Best solution - Fitness: 0.0034187356663714376, Cost: 292.50579675888645\n",
      "Generation 72: Best solution - Fitness: 0.0034187356663714376, Cost: 292.50579675888645\n",
      "Generation 73: Best solution - Fitness: 0.0034187356663714376, Cost: 292.50579675888645\n",
      "Generation 74: Best solution - Fitness: 0.0034187356663714376, Cost: 292.50579675888645\n",
      "Generation 75: Best solution - Fitness: 0.0034187356663714376, Cost: 292.50579675888645\n",
      "Generation 76: Best solution - Fitness: 0.0034187356663714376, Cost: 292.50579675888645\n",
      "Generation 77: Best solution - Fitness: 0.0034187356663714376, Cost: 292.50579675888645\n",
      "Generation 78: Best solution - Fitness: 0.0034187356663714376, Cost: 292.50579675888645\n",
      "Generation 79: Best solution - Fitness: 0.0034187356663714376, Cost: 292.50579675888645\n",
      "Generation 80: Best solution - Fitness: 0.0034187356663714376, Cost: 292.50579675888645\n",
      "Generation 81: Best solution - Fitness: 0.0034187356663714376, Cost: 292.50579675888645\n",
      "Generation 82: Best solution - Fitness: 0.003516408206203826, Cost: 284.3810904080332\n",
      "Generation 83: Best solution - Fitness: 0.003516408206203826, Cost: 284.3810904080332\n",
      "Generation 84: Best solution - Fitness: 0.003516408206203826, Cost: 284.3810904080332\n",
      "Generation 85: Best solution - Fitness: 0.003516408206203826, Cost: 284.3810904080332\n",
      "Generation 86: Best solution - Fitness: 0.003516408206203826, Cost: 284.3810904080332\n",
      "Generation 87: Best solution - Fitness: 0.003516408206203826, Cost: 284.3810904080332\n",
      "Generation 88: Best solution - Fitness: 0.003516408206203826, Cost: 284.3810904080332\n",
      "Generation 89: Best solution - Fitness: 0.003516408206203826, Cost: 284.3810904080332\n",
      "Generation 90: Best solution - Fitness: 0.003516408206203826, Cost: 284.3810904080332\n",
      "Generation 91: Best solution - Fitness: 0.003516408206203826, Cost: 284.3810904080332\n",
      "Generation 92: Best solution - Fitness: 0.003516408206203826, Cost: 284.3810904080332\n",
      "Generation 93: Best solution - Fitness: 0.003516408206203826, Cost: 284.3810904080332\n",
      "Generation 94: Best solution - Fitness: 0.003516408206203826, Cost: 284.3810904080332\n",
      "Generation 95: Best solution - Fitness: 0.003516408206203826, Cost: 284.3810904080332\n",
      "Generation 96: Best solution - Fitness: 0.003516408206203826, Cost: 284.3810904080332\n",
      "Generation 97: Best solution - Fitness: 0.003516408206203826, Cost: 284.3810904080332\n",
      "Generation 98: Best solution - Fitness: 0.003516408206203826, Cost: 284.3810904080332\n",
      "Generation 99: Best solution - Fitness: 0.003516408206203826, Cost: 284.3810904080332\n",
      "Generation 100: Best solution - Fitness: 0.003516408206203826, Cost: 284.3810904080332\n"
     ]
    }
   ],
   "source": [
    "best_solution = main_loop(population_size, generations_count, elitism_percentage, crossover_probability, mutation_probability, k_tournament)"
   ]
  },
  {
   "cell_type": "code",
   "execution_count": 115,
   "metadata": {},
   "outputs": [
    {
     "name": "stdout",
     "output_type": "stream",
     "text": [
      "best solution found: 284.3810904080332\n",
      "Route: \n",
      "8.0\n",
      "6.0\n",
      "4.0\n",
      "11.0\n",
      "1.0\n",
      "13.0\n",
      "2.0\n",
      "15.0\n",
      "9.0\n",
      "5.0\n",
      "7.0\n",
      "3.0\n",
      "12.0\n",
      "14.0\n",
      "10.0\n",
      "8.0\n"
     ]
    }
   ],
   "source": [
    "print(\"best solution found:\", best_solution.cost)\n",
    "print(\"Route: \")\n",
    "for city in best_solution.cities_withxy:\n",
    "    print(city.name)\n",
    "print(best_solution.cities_withxy[0].name)"
   ]
  }
 ],
 "metadata": {
  "kernelspec": {
   "display_name": "Python 3",
   "language": "python",
   "name": "python3"
  },
  "language_info": {
   "codemirror_mode": {
    "name": "ipython",
    "version": 3
   },
   "file_extension": ".py",
   "mimetype": "text/x-python",
   "name": "python",
   "nbconvert_exporter": "python",
   "pygments_lexer": "ipython3",
   "version": "3.10.5"
  }
 },
 "nbformat": 4,
 "nbformat_minor": 2
}
